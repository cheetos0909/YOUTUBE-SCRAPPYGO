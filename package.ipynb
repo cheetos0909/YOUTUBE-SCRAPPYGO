{
 "cells": [
  {
   "cell_type": "markdown",
   "metadata": {},
   "source": [
    "### This Notebook is made to combine functions from different packages in order to perform tasks"
   ]
  },
  {
   "cell_type": "markdown",
   "metadata": {},
   "source": [
    "### To Get DataFrame of Statistical Details of Channel Names you Enter"
   ]
  },
  {
   "cell_type": "code",
   "execution_count": 1,
   "metadata": {},
   "outputs": [],
   "source": [
    "def get_channels_data():\n",
    "    \"\"\"Input:Fetches List of Channel Names from You Comma Seperated\n",
    "    Returns: DataFrame of Statistical Details of Channel Names you Enter\n",
    "    \"\"\"\n",
    "    \n",
    "    \n",
    "    from fetch import fetch_channel_name_list\n",
    "    from channels import get_channels_stats\n",
    "    from framer import framer\n",
    "    inp=fetch_channel_name_list()\n",
    "    ret=get_channels_stats(inp)\n",
    "    ret_df=framer(ret)\n",
    "    return ret_df\n",
    "\n"
   ]
  },
  {
   "cell_type": "markdown",
   "metadata": {},
   "source": [
    "### To Get DataFrame of Video Details of only one Channel Name you Enter"
   ]
  },
  {
   "cell_type": "code",
   "execution_count": 2,
   "metadata": {},
   "outputs": [],
   "source": [
    "def get_videos_data():\n",
    "    \"\"\"Input:Fetches Channel Name from You\n",
    "    Returns: DataFrame of Video Details of Channel Name you entered\n",
    "    \"\"\"\n",
    "    from fetch import fetch_channel_name_list\n",
    "    from videos import get_videos_details\n",
    "    from framer import framer\n",
    "    name=fetch_channel_name_list()\n",
    "    lst=get_videos_details(name)\n",
    "    df=framer(lst)\n",
    "    return df\n",
    "\n",
    "    "
   ]
  },
  {
   "cell_type": "markdown",
   "metadata": {},
   "source": [
    "### To Get DataFrame of Comments of Video ID you Enter"
   ]
  },
  {
   "cell_type": "code",
   "execution_count": 3,
   "metadata": {},
   "outputs": [],
   "source": [
    "def get_comments_data():\n",
    "    \"\"\"Input:Fetches VIDEO ID from You\n",
    "    Returns: DataFrame of 100 COMMENTS  of VIDEO ID you entered\n",
    "    \"\"\"\n",
    "    from fetch import fetch_VIDEO_ID\n",
    "    from framer import framer\n",
    "    from comments import get_comments\n",
    "    video_id=fetch_VIDEO_ID()\n",
    "    lst=get_comments(video_id)\n",
    "    df=framer(lst)\n",
    "    return df\n",
    "\n"
   ]
  },
  {
   "cell_type": "code",
   "execution_count": 4,
   "metadata": {},
   "outputs": [],
   "source": [
    "get_channels_data()"
   ]
  },
  {
   "cell_type": "code",
   "execution_count": null,
   "metadata": {},
   "outputs": [],
   "source": []
  }
 ],
 "metadata": {
  "kernelspec": {
   "display_name": "env",
   "language": "python",
   "name": "python3"
  },
  "language_info": {
   "codemirror_mode": {
    "name": "ipython",
    "version": 3
   },
   "file_extension": ".py",
   "mimetype": "text/x-python",
   "name": "python",
   "nbconvert_exporter": "python",
   "pygments_lexer": "ipython3",
   "version": "3.11.3"
  },
  "orig_nbformat": 4
 },
 "nbformat": 4,
 "nbformat_minor": 2
}
