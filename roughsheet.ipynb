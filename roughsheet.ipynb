{
 "cells": [
  {
   "cell_type": "markdown",
   "metadata": {},
   "source": [
    "### This Notebook is like a Test Lab Where you check whether your code is working or not!"
   ]
  },
  {
   "cell_type": "code",
   "execution_count": 3,
   "metadata": {},
   "outputs": [],
   "source": [
    "from fetch import fetch_channel_name_list"
   ]
  },
  {
   "cell_type": "code",
   "execution_count": 5,
   "metadata": {},
   "outputs": [],
   "source": [
    "from get_id import get_channel_id_list"
   ]
  },
  {
   "cell_type": "code",
   "execution_count": 12,
   "metadata": {},
   "outputs": [
    {
     "data": {
      "text/plain": [
       "[{'Name': 'WWE ', 'ID': 'UCJ5v_MCY6GNUBTO8-D3XoAg'},\n",
       " {'Name': ' Saket Gokhale', 'ID': 'UCfgrg0SXgNkZ7rTbnZCp6tg'},\n",
       " {'Name': ' Samay Raina', 'ID': 'UCAov2BBv1ZJav0c_yHEciAw'},\n",
       " {'Name': ' Chess.com', 'ID': 'UC5kS0l76kC0xOzMPtOmSFGw'}]"
      ]
     },
     "execution_count": 12,
     "metadata": {},
     "output_type": "execute_result"
    }
   ],
   "source": [
    "get_channel_id_list(fetch_channel_name_list())"
   ]
  },
  {
   "cell_type": "code",
   "execution_count": 16,
   "metadata": {},
   "outputs": [],
   "source": [
    "from channels import get_channels_stats\n",
    "from framer import framer"
   ]
  },
  {
   "cell_type": "code",
   "execution_count": 15,
   "metadata": {},
   "outputs": [],
   "source": [
    "b=get_channels_stats(fetch_channel_name_list())"
   ]
  },
  {
   "cell_type": "code",
   "execution_count": 10,
   "metadata": {},
   "outputs": [],
   "source": [
    "from googleapiclient.discovery import build\n",
    "from api import api_key\n",
    "youtube=build('youtube','v3',developerKey=api_key)"
   ]
  },
  {
   "cell_type": "code",
   "execution_count": 17,
   "metadata": {},
   "outputs": [
    {
     "data": {
      "text/html": [
       "<div>\n",
       "<style scoped>\n",
       "    .dataframe tbody tr th:only-of-type {\n",
       "        vertical-align: middle;\n",
       "    }\n",
       "\n",
       "    .dataframe tbody tr th {\n",
       "        vertical-align: top;\n",
       "    }\n",
       "\n",
       "    .dataframe thead th {\n",
       "        text-align: right;\n",
       "    }\n",
       "</style>\n",
       "<table border=\"1\" class=\"dataframe\">\n",
       "  <thead>\n",
       "    <tr style=\"text-align: right;\">\n",
       "      <th></th>\n",
       "      <th>Channel_Name</th>\n",
       "      <th>Description</th>\n",
       "      <th>Subscribers</th>\n",
       "      <th>Views</th>\n",
       "      <th>Videos</th>\n",
       "      <th>Playlist_ID</th>\n",
       "    </tr>\n",
       "  </thead>\n",
       "  <tbody>\n",
       "    <tr>\n",
       "      <th>0</th>\n",
       "      <td>WWE</td>\n",
       "      <td>WWE on YouTube is your number one spot to catc...</td>\n",
       "      <td>97000000</td>\n",
       "      <td>78574289229</td>\n",
       "      <td>71070</td>\n",
       "      <td>UUJ5v_MCY6GNUBTO8-D3XoAg</td>\n",
       "    </tr>\n",
       "    <tr>\n",
       "      <th>1</th>\n",
       "      <td>Samay Raina</td>\n",
       "      <td>I do it for the laugh emoji</td>\n",
       "      <td>1200000</td>\n",
       "      <td>356638708</td>\n",
       "      <td>869</td>\n",
       "      <td>UUAov2BBv1ZJav0c_yHEciAw</td>\n",
       "    </tr>\n",
       "    <tr>\n",
       "      <th>2</th>\n",
       "      <td>Saket Gokhale</td>\n",
       "      <td>Just a kid capturing the best moments of his l...</td>\n",
       "      <td>1170000</td>\n",
       "      <td>130127002</td>\n",
       "      <td>415</td>\n",
       "      <td>UUfgrg0SXgNkZ7rTbnZCp6tg</td>\n",
       "    </tr>\n",
       "    <tr>\n",
       "      <th>3</th>\n",
       "      <td>Chess.com</td>\n",
       "      <td>Chess.com is the world’s #1 chess community wi...</td>\n",
       "      <td>1490000</td>\n",
       "      <td>385077228</td>\n",
       "      <td>4244</td>\n",
       "      <td>UU5kS0l76kC0xOzMPtOmSFGw</td>\n",
       "    </tr>\n",
       "  </tbody>\n",
       "</table>\n",
       "</div>"
      ],
      "text/plain": [
       "    Channel_Name                                        Description  \\\n",
       "0            WWE  WWE on YouTube is your number one spot to catc...   \n",
       "1    Samay Raina                        I do it for the laugh emoji   \n",
       "2  Saket Gokhale  Just a kid capturing the best moments of his l...   \n",
       "3      Chess.com  Chess.com is the world’s #1 chess community wi...   \n",
       "\n",
       "  Subscribers        Views Videos               Playlist_ID  \n",
       "0    97000000  78574289229  71070  UUJ5v_MCY6GNUBTO8-D3XoAg  \n",
       "1     1200000    356638708    869  UUAov2BBv1ZJav0c_yHEciAw  \n",
       "2     1170000    130127002    415  UUfgrg0SXgNkZ7rTbnZCp6tg  \n",
       "3     1490000    385077228   4244  UU5kS0l76kC0xOzMPtOmSFGw  "
      ]
     },
     "execution_count": 17,
     "metadata": {},
     "output_type": "execute_result"
    }
   ],
   "source": [
    "framer(b)"
   ]
  },
  {
   "cell_type": "code",
   "execution_count": 18,
   "metadata": {},
   "outputs": [],
   "source": [
    "from get_id import get_channel_id\n",
    "from fetch import fetch_channel_name"
   ]
  },
  {
   "cell_type": "code",
   "execution_count": 19,
   "metadata": {},
   "outputs": [
    {
     "data": {
      "text/plain": [
       "'UCGOuV70gJlMmrZinOgGlc7w'"
      ]
     },
     "execution_count": 19,
     "metadata": {},
     "output_type": "execute_result"
    }
   ],
   "source": [
    "get_channel_id(fetch_channel_name())"
   ]
  },
  {
   "cell_type": "code",
   "execution_count": 20,
   "metadata": {},
   "outputs": [
    {
     "data": {
      "text/plain": [
       "[{'Channel_Name': 'Risingmoon100',\n",
       "  'Description': '',\n",
       "  'Subscribers': '167',\n",
       "  'Views': '15440',\n",
       "  'Videos': '22',\n",
       "  'Playlist_ID': 'UUGOuV70gJlMmrZinOgGlc7w'}]"
      ]
     },
     "execution_count": 20,
     "metadata": {},
     "output_type": "execute_result"
    }
   ],
   "source": [
    "get_channels_stats(['Risingmoon100'])"
   ]
  },
  {
   "cell_type": "code",
   "execution_count": null,
   "metadata": {},
   "outputs": [],
   "source": []
  }
 ],
 "metadata": {
  "kernelspec": {
   "display_name": "env",
   "language": "python",
   "name": "python3"
  },
  "language_info": {
   "codemirror_mode": {
    "name": "ipython",
    "version": 3
   },
   "file_extension": ".py",
   "mimetype": "text/x-python",
   "name": "python",
   "nbconvert_exporter": "python",
   "pygments_lexer": "ipython3",
   "version": "3.11.3"
  },
  "orig_nbformat": 4
 },
 "nbformat": 4,
 "nbformat_minor": 2
}
